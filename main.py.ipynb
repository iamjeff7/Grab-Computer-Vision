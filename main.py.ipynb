{
 "cells": [
  {
   "cell_type": "code",
   "execution_count": 7,
   "metadata": {},
   "outputs": [],
   "source": [
    "import numpy as np\n",
    "import pandas as pd\n",
    "import scipy.io as sio \n",
    "import os\n",
    "import cv2\n",
    "import matplotlib.pyplot as plt\n",
    "from PIL import Image\n",
    "from matplotlib.patches import Rectangle\n",
    "from sklearn.model_selection import train_test_split\n",
    "\n",
    "from keras.preprocessing.image import ImageDataGenerator\n",
    "from keras.models import Sequential\n",
    "from keras.layers import Dense, Activation, Flatten, Dropout, BatchNormalization\n",
    "from keras.layers import Conv2D, MaxPooling2D\n",
    "from keras import regularizers, optimizers\n"
   ]
  },
  {
   "cell_type": "markdown",
   "metadata": {},
   "source": [
    "## Data preprocessing"
   ]
  },
  {
   "cell_type": "code",
   "execution_count": 8,
   "metadata": {},
   "outputs": [
    {
     "name": "stdout",
     "output_type": "stream",
     "text": [
      "Found 7018 images belonging to 196 classes.\n",
      "Found 1126 images belonging to 196 classes.\n"
     ]
    }
   ],
   "source": [
    "new_train_path = 'Dataset/new_cars_train/'\n",
    "new_test_path = 'Dataset/new_cars_test/'\n",
    "\n",
    "\n",
    "train_datagen = ImageDataGenerator(\n",
    "        rotation_range=10,\n",
    "        width_shift_range=0.1,\n",
    "        height_shift_range=0.1,\n",
    "        shear_range=0.15,\n",
    "        zoom_range=0.15,\n",
    "        validation_split = 0.15,\n",
    "        horizontal_flip=True)\n",
    "\n",
    "train_generator = train_datagen.flow_from_directory(\n",
    "        new_train_path,\n",
    "        target_size=(224, 224),\n",
    "        batch_size=16,\n",
    "        seed = 42,\n",
    "        shuffle = True,\n",
    "        subset = 'training',\n",
    "        class_mode='categorical')\n",
    "\n",
    "validation_generator = train_datagen.flow_from_directory(\n",
    "        new_train_path,\n",
    "        target_size=(224, 224),\n",
    "        batch_size=16,\n",
    "        seed = 42,\n",
    "        shuffle = True,\n",
    "        subset = 'validation',\n",
    "        class_mode='categorical')"
   ]
  },
  {
   "cell_type": "markdown",
   "metadata": {},
   "source": [
    "## Fine-tune using EfficientnetB0"
   ]
  },
  {
   "cell_type": "code",
   "execution_count": 3,
   "metadata": {},
   "outputs": [],
   "source": [
    "# Options: EfficientNetB0, EfficientNetB1, EfficientNetB2, EfficientNetB3\n",
    "# Higher the number, the more complex the model is.\n",
    "from efficientnet import EfficientNetB0 as Net\n",
    "from efficientnet import center_crop_and_resize, preprocess_input\n"
   ]
  },
  {
   "cell_type": "code",
   "execution_count": 4,
   "metadata": {
    "scrolled": false
   },
   "outputs": [
    {
     "name": "stdout",
     "output_type": "stream",
     "text": [
      "WARNING:tensorflow:From C:\\Users\\USER\\Anaconda3\\lib\\site-packages\\tensorflow\\python\\framework\\op_def_library.py:263: colocate_with (from tensorflow.python.framework.ops) is deprecated and will be removed in a future version.\n",
      "Instructions for updating:\n",
      "Colocations handled automatically by placer.\n",
      "WARNING:tensorflow:From C:\\Users\\USER\\Anaconda3\\lib\\site-packages\\tensorflow\\python\\framework\\function.py:1007: calling Graph.create_op (from tensorflow.python.framework.ops) with compute_shapes is deprecated and will be removed in a future version.\n",
      "Instructions for updating:\n",
      "Shapes are always computed; don't use the compute_shapes as it has no effect.\n",
      "WARNING:tensorflow:From C:\\Users\\USER\\Anaconda3\\lib\\site-packages\\efficientnet\\layers.py:29: div (from tensorflow.python.ops.math_ops) is deprecated and will be removed in a future version.\n",
      "Instructions for updating:\n",
      "Deprecated in favor of operator or tf.math.divide.\n",
      "WARNING:tensorflow:From C:\\Users\\USER\\Anaconda3\\lib\\site-packages\\keras\\backend\\tensorflow_backend.py:3445: calling dropout (from tensorflow.python.ops.nn_ops) with keep_prob is deprecated and will be removed in a future version.\n",
      "Instructions for updating:\n",
      "Please use `rate` instead of `keep_prob`. Rate should be set to `rate = 1 - keep_prob`.\n",
      "WARNING:tensorflow:From C:\\Users\\USER\\Anaconda3\\lib\\site-packages\\tensorflow\\python\\ops\\math_ops.py:3066: to_int32 (from tensorflow.python.ops.math_ops) is deprecated and will be removed in a future version.\n",
      "Instructions for updating:\n",
      "Use tf.cast instead.\n",
      "Epoch 1/60\n",
      "438/438 [==============================] - 352s 805ms/step - loss: 4.8458 - acc: 0.0755 - val_loss: 3.4712 - val_acc: 0.2527\n",
      "Epoch 2/60\n",
      "438/438 [==============================] - 345s 787ms/step - loss: 2.6404 - acc: 0.3930 - val_loss: 2.2349 - val_acc: 0.4577\n",
      "Epoch 3/60\n",
      "438/438 [==============================] - 344s 784ms/step - loss: 1.4124 - acc: 0.6438 - val_loss: 1.8959 - val_acc: 0.5631\n",
      "Epoch 4/60\n",
      "438/438 [==============================] - 344s 785ms/step - loss: 0.8662 - acc: 0.7704 - val_loss: 1.6429 - val_acc: 0.6189\n",
      "Epoch 5/60\n",
      "438/438 [==============================] - 344s 784ms/step - loss: 0.5570 - acc: 0.8479 - val_loss: 1.5797 - val_acc: 0.6640\n",
      "Epoch 6/60\n",
      "438/438 [==============================] - 344s 785ms/step - loss: 0.4312 - acc: 0.8772 - val_loss: 1.5974 - val_acc: 0.6748\n",
      "Epoch 7/60\n",
      "438/438 [==============================] - 344s 785ms/step - loss: 0.3443 - acc: 0.9015 - val_loss: 1.6657 - val_acc: 0.6883\n",
      "Epoch 8/60\n",
      "438/438 [==============================] - 344s 785ms/step - loss: 0.2769 - acc: 0.9231 - val_loss: 1.4103 - val_acc: 0.7153\n",
      "Epoch 9/60\n",
      "438/438 [==============================] - 344s 784ms/step - loss: 0.2649 - acc: 0.9288 - val_loss: 1.6817 - val_acc: 0.7018\n",
      "Epoch 10/60\n",
      "438/438 [==============================] - 344s 785ms/step - loss: 0.2245 - acc: 0.9371 - val_loss: 1.5824 - val_acc: 0.7180\n",
      "Epoch 11/60\n",
      "438/438 [==============================] - 344s 784ms/step - loss: 0.1909 - acc: 0.9460 - val_loss: 1.5859 - val_acc: 0.6946\n",
      "Epoch 12/60\n",
      "438/438 [==============================] - 344s 786ms/step - loss: 0.1702 - acc: 0.9537 - val_loss: 1.5973 - val_acc: 0.7378\n",
      "Epoch 13/60\n",
      "438/438 [==============================] - 344s 784ms/step - loss: 0.1727 - acc: 0.9521 - val_loss: 1.6071 - val_acc: 0.7234\n",
      "Epoch 14/60\n",
      "438/438 [==============================] - 344s 784ms/step - loss: 0.1698 - acc: 0.9541 - val_loss: 1.8112 - val_acc: 0.7369\n",
      "Epoch 15/60\n",
      "438/438 [==============================] - 343s 784ms/step - loss: 0.1418 - acc: 0.9590 - val_loss: 1.6053 - val_acc: 0.7378\n",
      "Epoch 16/60\n",
      "438/438 [==============================] - 343s 784ms/step - loss: 0.1499 - acc: 0.9610 - val_loss: 1.5954 - val_acc: 0.7414\n",
      "Epoch 17/60\n",
      "438/438 [==============================] - 344s 784ms/step - loss: 0.1317 - acc: 0.9657 - val_loss: 1.8386 - val_acc: 0.7396\n",
      "Epoch 18/60\n",
      "438/438 [==============================] - 344s 785ms/step - loss: 0.1307 - acc: 0.9632 - val_loss: 1.8305 - val_acc: 0.7459\n",
      "Epoch 19/60\n",
      "438/438 [==============================] - 344s 785ms/step - loss: 0.1285 - acc: 0.9652 - val_loss: 1.7077 - val_acc: 0.7477\n",
      "Epoch 20/60\n",
      "438/438 [==============================] - 344s 785ms/step - loss: 0.1328 - acc: 0.9631 - val_loss: 1.6282 - val_acc: 0.7468\n",
      "Epoch 21/60\n",
      "438/438 [==============================] - 344s 785ms/step - loss: 0.1269 - acc: 0.9668 - val_loss: 1.5728 - val_acc: 0.7405\n",
      "Epoch 22/60\n",
      "438/438 [==============================] - 343s 783ms/step - loss: 0.1256 - acc: 0.9656 - val_loss: 1.8186 - val_acc: 0.7532\n",
      "Epoch 23/60\n",
      "438/438 [==============================] - 343s 784ms/step - loss: 0.1177 - acc: 0.9692 - val_loss: 1.8299 - val_acc: 0.7360\n",
      "Epoch 24/60\n",
      "438/438 [==============================] - 343s 784ms/step - loss: 0.1038 - acc: 0.9709 - val_loss: 1.9422 - val_acc: 0.7495\n",
      "Epoch 25/60\n",
      "438/438 [==============================] - 344s 784ms/step - loss: 0.1226 - acc: 0.9695 - val_loss: 2.0142 - val_acc: 0.7189\n",
      "Epoch 26/60\n",
      "438/438 [==============================] - 344s 785ms/step - loss: 0.1248 - acc: 0.9664 - val_loss: 1.7674 - val_acc: 0.7505\n",
      "Epoch 27/60\n",
      "438/438 [==============================] - 343s 784ms/step - loss: 0.1138 - acc: 0.9690 - val_loss: 1.9478 - val_acc: 0.7405\n",
      "Epoch 28/60\n",
      "438/438 [==============================] - 343s 784ms/step - loss: 0.1182 - acc: 0.9705 - val_loss: 1.8315 - val_acc: 0.7486\n",
      "Epoch 29/60\n",
      "438/438 [==============================] - 344s 785ms/step - loss: 0.1047 - acc: 0.9732 - val_loss: 1.8611 - val_acc: 0.7369\n",
      "Epoch 30/60\n",
      "438/438 [==============================] - 343s 783ms/step - loss: 0.1072 - acc: 0.9722 - val_loss: 1.7045 - val_acc: 0.7568\n",
      "Epoch 31/60\n",
      "438/438 [==============================] - 344s 785ms/step - loss: 0.1279 - acc: 0.9704 - val_loss: 1.9689 - val_acc: 0.7459\n",
      "Epoch 32/60\n",
      "438/438 [==============================] - 343s 784ms/step - loss: 0.1049 - acc: 0.9734 - val_loss: 1.6874 - val_acc: 0.7811\n",
      "Epoch 33/60\n",
      "438/438 [==============================] - 345s 787ms/step - loss: 0.1001 - acc: 0.9755 - val_loss: 1.7860 - val_acc: 0.7721\n",
      "Epoch 34/60\n",
      "438/438 [==============================] - 344s 784ms/step - loss: 0.1010 - acc: 0.9755 - val_loss: 1.9668 - val_acc: 0.7351\n",
      "Epoch 35/60\n",
      "438/438 [==============================] - 344s 785ms/step - loss: 0.0982 - acc: 0.9762 - val_loss: 1.7073 - val_acc: 0.7694\n",
      "Epoch 36/60\n",
      "438/438 [==============================] - 344s 784ms/step - loss: 0.1008 - acc: 0.9775 - val_loss: 2.0347 - val_acc: 0.7486\n",
      "Epoch 37/60\n",
      "438/438 [==============================] - 343s 784ms/step - loss: 0.1070 - acc: 0.9760 - val_loss: 1.7950 - val_acc: 0.7586\n",
      "Epoch 38/60\n",
      "438/438 [==============================] - 344s 784ms/step - loss: 0.1136 - acc: 0.9736 - val_loss: 1.8702 - val_acc: 0.7577\n",
      "Epoch 39/60\n",
      "438/438 [==============================] - 344s 785ms/step - loss: 0.1105 - acc: 0.9731 - val_loss: 2.0694 - val_acc: 0.7514\n",
      "Epoch 40/60\n",
      "438/438 [==============================] - 344s 785ms/step - loss: 0.1047 - acc: 0.9740 - val_loss: 1.9154 - val_acc: 0.7685\n",
      "Epoch 41/60\n",
      "438/438 [==============================] - 344s 784ms/step - loss: 0.1240 - acc: 0.9735 - val_loss: 2.1317 - val_acc: 0.7532\n",
      "Epoch 42/60\n",
      "438/438 [==============================] - 343s 784ms/step - loss: 0.1045 - acc: 0.9762 - val_loss: 1.6935 - val_acc: 0.7757\n",
      "Epoch 43/60\n",
      "438/438 [==============================] - 344s 785ms/step - loss: 0.0837 - acc: 0.9801 - val_loss: 1.9835 - val_acc: 0.7604\n",
      "Epoch 44/60\n",
      "438/438 [==============================] - 344s 785ms/step - loss: 0.0949 - acc: 0.9757 - val_loss: 1.8237 - val_acc: 0.7568\n",
      "Epoch 45/60\n",
      "438/438 [==============================] - 344s 785ms/step - loss: 0.1097 - acc: 0.9778 - val_loss: 2.1087 - val_acc: 0.7586\n",
      "Epoch 46/60\n",
      "438/438 [==============================] - 344s 784ms/step - loss: 0.0867 - acc: 0.9812 - val_loss: 2.1125 - val_acc: 0.7676\n",
      "Epoch 47/60\n",
      "438/438 [==============================] - 344s 784ms/step - loss: 0.0930 - acc: 0.9787 - val_loss: 1.9112 - val_acc: 0.7586\n",
      "Epoch 48/60\n",
      "438/438 [==============================] - 344s 784ms/step - loss: 0.1045 - acc: 0.9786 - val_loss: 1.9882 - val_acc: 0.7604\n",
      "Epoch 49/60\n",
      "438/438 [==============================] - 344s 786ms/step - loss: 0.0856 - acc: 0.9810 - val_loss: 2.0950 - val_acc: 0.7649\n"
     ]
    },
    {
     "name": "stdout",
     "output_type": "stream",
     "text": [
      "Epoch 50/60\n",
      "438/438 [==============================] - 345s 787ms/step - loss: 0.0876 - acc: 0.9790 - val_loss: 1.7688 - val_acc: 0.7766\n",
      "Epoch 51/60\n",
      "438/438 [==============================] - 344s 785ms/step - loss: 0.0948 - acc: 0.9792 - val_loss: 1.7092 - val_acc: 0.7712\n",
      "Epoch 52/60\n",
      "438/438 [==============================] - 343s 784ms/step - loss: 0.0941 - acc: 0.9776 - val_loss: 1.6866 - val_acc: 0.7784\n",
      "Epoch 53/60\n",
      "438/438 [==============================] - 344s 786ms/step - loss: 0.1050 - acc: 0.9795 - val_loss: 1.7987 - val_acc: 0.7856\n",
      "Epoch 54/60\n",
      "438/438 [==============================] - 345s 788ms/step - loss: 0.0839 - acc: 0.9808 - val_loss: 1.8605 - val_acc: 0.7838\n",
      "Epoch 55/60\n",
      "438/438 [==============================] - 346s 789ms/step - loss: 0.0993 - acc: 0.9800 - val_loss: 1.7539 - val_acc: 0.7784\n",
      "Epoch 56/60\n",
      "438/438 [==============================] - 344s 786ms/step - loss: 0.0894 - acc: 0.9803 - val_loss: 1.9738 - val_acc: 0.7847\n",
      "Epoch 57/60\n",
      "438/438 [==============================] - 344s 785ms/step - loss: 0.0859 - acc: 0.9823 - val_loss: 1.7711 - val_acc: 0.7838\n",
      "Epoch 58/60\n",
      "438/438 [==============================] - 344s 785ms/step - loss: 0.0782 - acc: 0.9819 - val_loss: 1.8593 - val_acc: 0.7703\n",
      "Epoch 59/60\n",
      "438/438 [==============================] - 344s 784ms/step - loss: 0.0626 - acc: 0.9850 - val_loss: 1.8695 - val_acc: 0.7784\n",
      "Epoch 60/60\n",
      "438/438 [==============================] - 344s 785ms/step - loss: 0.0961 - acc: 0.9822 - val_loss: 1.7787 - val_acc: 0.7910\n"
     ]
    }
   ],
   "source": [
    "# loading pretrained conv base model\n",
    "conv_base = Net(weights=\"imagenet\", include_top=False)\n",
    "conv_base.trainable = True\n",
    "\n",
    "set_trainable = False\n",
    "for layer in conv_base.layers:\n",
    "    if layer.name == 'multiply_16':\n",
    "        set_trainable = True\n",
    "        if set_trainable:\n",
    "            layer.trainable = True\n",
    "        else:\n",
    "            layer.trainable = False\n",
    "\n",
    "\n",
    "efficientnet_model = Sequential()\n",
    "efficientnet_model.add(conv_base)\n",
    "\n",
    "efficientnet_model.add(Flatten())\n",
    "efficientnet_model.add(Dense(512))\n",
    "efficientnet_model.add(Activation('relu'))\n",
    "efficientnet_model.add(Dropout(0.2))\n",
    "efficientnet_model.add(Dense(196, activation='softmax'))\n",
    "\n",
    "efficientnet_model.compile(optimizers.rmsprop(lr=0.0001),\n",
    "    loss=\"categorical_crossentropy\", metrics=[\"accuracy\"])\n",
    "\n",
    "STEP_SIZE_TRAIN=train_generator.n//train_generator.batch_size\n",
    "STEP_SIZE_VALID=validation_generator.n//validation_generator.batch_size\n",
    "\n",
    "history = efficientnet_model.fit_generator(generator=train_generator,\n",
    "                    steps_per_epoch=STEP_SIZE_TRAIN,\n",
    "                    validation_data=validation_generator,\n",
    "                    validation_steps=STEP_SIZE_VALID,\n",
    "                    epochs=60)"
   ]
  },
  {
   "cell_type": "code",
   "execution_count": 5,
   "metadata": {},
   "outputs": [
    {
     "data": {
      "image/png": "[encoded data removed]",
      "text/plain": [
       "<Figure size 432x288 with 2 Axes>"
      ]
     },
     "metadata": {},
     "output_type": "display_data"
    }
   ],
   "source": [
    "import matplotlib.pyplot as plt\n",
    "# plot loss during training\n",
    "plt.subplot(211)\n",
    "plt.title('Loss')\n",
    "plt.ylabel('loss')\n",
    "plt.xlabel('epoch')\n",
    "plt.plot(history.history['loss'])\n",
    "plt.plot(history.history['val_loss'])\n",
    "plt.legend(['Train', 'Test'], loc='upper left')\n",
    "\n",
    "# plot accuracy during training\n",
    "plt.subplot(212)\n",
    "plt.title('Accuracy')\n",
    "plt.ylabel('acc')\n",
    "plt.xlabel('epoch')\n",
    "plt.plot(history.history['acc'])\n",
    "plt.plot(history.history['val_acc'])\n",
    "plt.legend(['Train', 'Test'], loc='upper left')\n",
    "plt.show()"
   ]
  },
  {
   "cell_type": "markdown",
   "metadata": {},
   "source": [
    "## Save .h5"
   ]
  },
  {
   "cell_type": "code",
   "execution_count": 6,
   "metadata": {},
   "outputs": [],
   "source": [
    "efficientnet_model.save('effnet_final.h5')"
   ]
  },
  {
   "cell_type": "markdown",
   "metadata": {},
   "source": [
    "## Load model"
   ]
  },
  {
   "cell_type": "code",
   "execution_count": 100,
   "metadata": {},
   "outputs": [],
   "source": [
    "from keras.models import load_model\n",
    "\n",
    "model = load_model('effnet_final.h5')"
   ]
  },
  {
   "cell_type": "markdown",
   "metadata": {},
   "source": [
    "## Validate with train data set"
   ]
  },
  {
   "cell_type": "code",
   "execution_count": 101,
   "metadata": {},
   "outputs": [],
   "source": [
    "STEPS=validation_generator.n//validation_generator.batch_size\n",
    "prediction = model.predict_generator(validation_generator, steps=STEPS)"
   ]
  },
  {
   "cell_type": "code",
   "execution_count": 102,
   "metadata": {},
   "outputs": [
    {
     "data": {
      "text/plain": [
       "array([[2.3028976e-20, 4.5541049e-22, 2.6419231e-23, ..., 1.6045340e-18,\n",
       "        1.6567474e-21, 2.2569010e-19],\n",
       "       [9.3769302e-25, 3.2833261e-38, 9.1749126e-28, ..., 7.4685132e-29,\n",
       "        1.9536198e-31, 4.3643962e-29],\n",
       "       [1.5654055e-14, 3.1293363e-15, 9.8400968e-01, ..., 3.0494077e-12,\n",
       "        2.1793943e-14, 7.0962163e-15],\n",
       "       ...,\n",
       "       [2.1817236e-13, 1.5321895e-15, 6.8714821e-09, ..., 1.8089885e-13,\n",
       "        7.1005967e-16, 1.5541225e-08],\n",
       "       [3.8783430e-37, 0.0000000e+00, 1.3034912e-28, ..., 6.8442472e-30,\n",
       "        8.8854459e-36, 1.3949456e-37],\n",
       "       [9.7163031e-25, 3.8959457e-19, 1.0339355e-25, ..., 1.6732927e-13,\n",
       "        1.2142184e-18, 3.1089780e-25]], dtype=float32)"
      ]
     },
     "execution_count": 102,
     "metadata": {},
     "output_type": "execute_result"
    }
   ],
   "source": [
    "prediction"
   ]
  },
  {
   "cell_type": "code",
   "execution_count": 103,
   "metadata": {},
   "outputs": [],
   "source": [
    "score = model.evaluate_generator(validation_generator, steps = 10)"
   ]
  },
  {
   "cell_type": "code",
   "execution_count": 104,
   "metadata": {},
   "outputs": [
    {
     "name": "stdout",
     "output_type": "stream",
     "text": [
      "Loss: 1.8674305870135626\n"
     ]
    }
   ],
   "source": [
    "print('Loss:',score[0])"
   ]
  },
  {
   "cell_type": "code",
   "execution_count": 105,
   "metadata": {},
   "outputs": [
    {
     "name": "stdout",
     "output_type": "stream",
     "text": [
      "Accuracy: 0.7933333333333333\n"
     ]
    }
   ],
   "source": [
    "print('Accuracy:',score[1])"
   ]
  },
  {
   "cell_type": "markdown",
   "metadata": {},
   "source": [
    "## Prediction with confidence"
   ]
  },
  {
   "cell_type": "code",
   "execution_count": 106,
   "metadata": {},
   "outputs": [],
   "source": [
    "\n",
    "name = []\n",
    "label = []\n",
    "conf1 = []\n",
    "conf2 = []\n",
    "conf3 = []\n",
    "pred1 = []\n",
    "pred2 = []\n",
    "pred3 = []\n",
    "\n",
    "for index in range(validation_generator.n):\n",
    "\n",
    "    image, Label = validation_generator._get_batches_of_transformed_samples(np.array([index]))\n",
    "\n",
    "    # label and name\n",
    "    image_name = validation_generator.filenames[index]\n",
    "    l_n = image_name.split('\\\\')\n",
    "    label.append(int(l_n[0]))\n",
    "    name.append(str(l_n[1]))\n",
    "\n",
    "    pred = model.predict_on_batch(image)\n",
    "    temp = pred[0].copy()\n",
    "\n",
    "    pred1.append(int(np.argmax(temp)))\n",
    "    conf1.append(temp[np.argmax(temp)])\n",
    "    temp[np.argmax(temp)] = 0\n",
    "\n",
    "    pred2.append(int(np.argmax(temp)))\n",
    "    conf2.append(temp[np.argmax(temp)])\n",
    "    temp[np.argmax(temp)] = 0\n",
    "\n",
    "    \n",
    "    pred3.append(int(np.argmax(temp)))\n",
    "    conf3.append(temp[np.argmax(temp)])\n",
    "    temp[np.argmax(temp)] = 0\n"
   ]
  },
  {
   "cell_type": "code",
   "execution_count": 107,
   "metadata": {},
   "outputs": [],
   "source": [
    "df = pd.DataFrame({'filename':name, 'labels':label, \n",
    "                   'pred1':pred1, 'conf1':conf1,\n",
    "                   'pred2':pred2, 'conf2':conf2,\n",
    "                   'pred3':pred3, 'conf3':conf3})"
   ]
  },
  {
   "cell_type": "code",
   "execution_count": 108,
   "metadata": {},
   "outputs": [
    {
     "data": {
      "text/html": [
       "<div>\n",
       "<style scoped>\n",
       "    .dataframe tbody tr th:only-of-type {\n",
       "        vertical-align: middle;\n",
       "    }\n",
       "\n",
       "    .dataframe tbody tr th {\n",
       "        vertical-align: top;\n",
       "    }\n",
       "\n",
       "    .dataframe thead th {\n",
       "        text-align: right;\n",
       "    }\n",
       "</style>\n",
       "<table border=\"1\" class=\"dataframe\">\n",
       "  <thead>\n",
       "    <tr style=\"text-align: right;\">\n",
       "      <th></th>\n",
       "      <th>filename</th>\n",
       "      <th>labels</th>\n",
       "      <th>pred1</th>\n",
       "      <th>conf1</th>\n",
       "      <th>pred2</th>\n",
       "      <th>conf2</th>\n",
       "      <th>pred3</th>\n",
       "      <th>conf3</th>\n",
       "    </tr>\n",
       "  </thead>\n",
       "  <tbody>\n",
       "    <tr>\n",
       "      <th>0</th>\n",
       "      <td>1276.jpg</td>\n",
       "      <td>0</td>\n",
       "      <td>0</td>\n",
       "      <td>1.000000</td>\n",
       "      <td>84</td>\n",
       "      <td>9.902456e-13</td>\n",
       "      <td>79</td>\n",
       "      <td>7.557364e-14</td>\n",
       "    </tr>\n",
       "    <tr>\n",
       "      <th>1</th>\n",
       "      <td>162.jpg</td>\n",
       "      <td>0</td>\n",
       "      <td>0</td>\n",
       "      <td>0.974539</td>\n",
       "      <td>29</td>\n",
       "      <td>2.546127e-02</td>\n",
       "      <td>28</td>\n",
       "      <td>1.175644e-14</td>\n",
       "    </tr>\n",
       "    <tr>\n",
       "      <th>2</th>\n",
       "      <td>1660.jpg</td>\n",
       "      <td>0</td>\n",
       "      <td>0</td>\n",
       "      <td>1.000000</td>\n",
       "      <td>52</td>\n",
       "      <td>2.182174e-10</td>\n",
       "      <td>105</td>\n",
       "      <td>7.214292e-20</td>\n",
       "    </tr>\n",
       "    <tr>\n",
       "      <th>3</th>\n",
       "      <td>1831.jpg</td>\n",
       "      <td>0</td>\n",
       "      <td>0</td>\n",
       "      <td>1.000000</td>\n",
       "      <td>29</td>\n",
       "      <td>2.673143e-12</td>\n",
       "      <td>52</td>\n",
       "      <td>7.696927e-15</td>\n",
       "    </tr>\n",
       "    <tr>\n",
       "      <th>4</th>\n",
       "      <td>1917.jpg</td>\n",
       "      <td>0</td>\n",
       "      <td>0</td>\n",
       "      <td>1.000000</td>\n",
       "      <td>29</td>\n",
       "      <td>5.528520e-20</td>\n",
       "      <td>52</td>\n",
       "      <td>7.462769e-21</td>\n",
       "    </tr>\n",
       "    <tr>\n",
       "      <th>5</th>\n",
       "      <td>1951.jpg</td>\n",
       "      <td>0</td>\n",
       "      <td>0</td>\n",
       "      <td>1.000000</td>\n",
       "      <td>52</td>\n",
       "      <td>3.193849e-10</td>\n",
       "      <td>29</td>\n",
       "      <td>2.752700e-12</td>\n",
       "    </tr>\n",
       "    <tr>\n",
       "      <th>6</th>\n",
       "      <td>1030.jpg</td>\n",
       "      <td>1</td>\n",
       "      <td>1</td>\n",
       "      <td>1.000000</td>\n",
       "      <td>31</td>\n",
       "      <td>1.320022e-09</td>\n",
       "      <td>158</td>\n",
       "      <td>8.050806e-10</td>\n",
       "    </tr>\n",
       "    <tr>\n",
       "      <th>7</th>\n",
       "      <td>1033.jpg</td>\n",
       "      <td>1</td>\n",
       "      <td>1</td>\n",
       "      <td>1.000000</td>\n",
       "      <td>159</td>\n",
       "      <td>1.377254e-07</td>\n",
       "      <td>33</td>\n",
       "      <td>8.655093e-11</td>\n",
       "    </tr>\n",
       "    <tr>\n",
       "      <th>8</th>\n",
       "      <td>1534.jpg</td>\n",
       "      <td>1</td>\n",
       "      <td>1</td>\n",
       "      <td>1.000000</td>\n",
       "      <td>75</td>\n",
       "      <td>5.808234e-09</td>\n",
       "      <td>94</td>\n",
       "      <td>1.063871e-12</td>\n",
       "    </tr>\n",
       "    <tr>\n",
       "      <th>9</th>\n",
       "      <td>1890.jpg</td>\n",
       "      <td>1</td>\n",
       "      <td>124</td>\n",
       "      <td>0.985052</td>\n",
       "      <td>50</td>\n",
       "      <td>6.778162e-03</td>\n",
       "      <td>119</td>\n",
       "      <td>5.728464e-03</td>\n",
       "    </tr>\n",
       "    <tr>\n",
       "      <th>10</th>\n",
       "      <td>1123.jpg</td>\n",
       "      <td>10</td>\n",
       "      <td>2</td>\n",
       "      <td>0.987282</td>\n",
       "      <td>174</td>\n",
       "      <td>4.836208e-03</td>\n",
       "      <td>185</td>\n",
       "      <td>3.976669e-03</td>\n",
       "    </tr>\n",
       "    <tr>\n",
       "      <th>11</th>\n",
       "      <td>1178.jpg</td>\n",
       "      <td>10</td>\n",
       "      <td>2</td>\n",
       "      <td>1.000000</td>\n",
       "      <td>60</td>\n",
       "      <td>6.439659e-24</td>\n",
       "      <td>67</td>\n",
       "      <td>9.744709e-25</td>\n",
       "    </tr>\n",
       "    <tr>\n",
       "      <th>12</th>\n",
       "      <td>1424.jpg</td>\n",
       "      <td>10</td>\n",
       "      <td>2</td>\n",
       "      <td>0.830262</td>\n",
       "      <td>7</td>\n",
       "      <td>1.595306e-01</td>\n",
       "      <td>89</td>\n",
       "      <td>1.020686e-02</td>\n",
       "    </tr>\n",
       "    <tr>\n",
       "      <th>13</th>\n",
       "      <td>1577.jpg</td>\n",
       "      <td>10</td>\n",
       "      <td>114</td>\n",
       "      <td>0.963516</td>\n",
       "      <td>82</td>\n",
       "      <td>2.912898e-02</td>\n",
       "      <td>111</td>\n",
       "      <td>4.904998e-03</td>\n",
       "    </tr>\n",
       "    <tr>\n",
       "      <th>14</th>\n",
       "      <td>1580.jpg</td>\n",
       "      <td>10</td>\n",
       "      <td>2</td>\n",
       "      <td>1.000000</td>\n",
       "      <td>185</td>\n",
       "      <td>9.191758e-23</td>\n",
       "      <td>67</td>\n",
       "      <td>5.155828e-25</td>\n",
       "    </tr>\n",
       "    <tr>\n",
       "      <th>15</th>\n",
       "      <td>1010.jpg</td>\n",
       "      <td>100</td>\n",
       "      <td>3</td>\n",
       "      <td>1.000000</td>\n",
       "      <td>148</td>\n",
       "      <td>1.193851e-09</td>\n",
       "      <td>192</td>\n",
       "      <td>7.252154e-11</td>\n",
       "    </tr>\n",
       "    <tr>\n",
       "      <th>16</th>\n",
       "      <td>1149.jpg</td>\n",
       "      <td>100</td>\n",
       "      <td>3</td>\n",
       "      <td>1.000000</td>\n",
       "      <td>88</td>\n",
       "      <td>1.242443e-21</td>\n",
       "      <td>89</td>\n",
       "      <td>2.620247e-22</td>\n",
       "    </tr>\n",
       "    <tr>\n",
       "      <th>17</th>\n",
       "      <td>1557.jpg</td>\n",
       "      <td>100</td>\n",
       "      <td>3</td>\n",
       "      <td>1.000000</td>\n",
       "      <td>4</td>\n",
       "      <td>1.303921e-17</td>\n",
       "      <td>88</td>\n",
       "      <td>2.712669e-21</td>\n",
       "    </tr>\n",
       "    <tr>\n",
       "      <th>18</th>\n",
       "      <td>1776.jpg</td>\n",
       "      <td>100</td>\n",
       "      <td>3</td>\n",
       "      <td>1.000000</td>\n",
       "      <td>42</td>\n",
       "      <td>4.107426e-14</td>\n",
       "      <td>185</td>\n",
       "      <td>4.798364e-16</td>\n",
       "    </tr>\n",
       "    <tr>\n",
       "      <th>19</th>\n",
       "      <td>2002.jpg</td>\n",
       "      <td>100</td>\n",
       "      <td>3</td>\n",
       "      <td>1.000000</td>\n",
       "      <td>42</td>\n",
       "      <td>2.958864e-13</td>\n",
       "      <td>192</td>\n",
       "      <td>1.494322e-14</td>\n",
       "    </tr>\n",
       "  </tbody>\n",
       "</table>\n",
       "</div>"
      ],
      "text/plain": [
       "    filename  labels  pred1     conf1  pred2         conf2  pred3  \\\n",
       "0   1276.jpg       0      0  1.000000     84  9.902456e-13     79   \n",
       "1    162.jpg       0      0  0.974539     29  2.546127e-02     28   \n",
       "2   1660.jpg       0      0  1.000000     52  2.182174e-10    105   \n",
       "3   1831.jpg       0      0  1.000000     29  2.673143e-12     52   \n",
       "4   1917.jpg       0      0  1.000000     29  5.528520e-20     52   \n",
       "5   1951.jpg       0      0  1.000000     52  3.193849e-10     29   \n",
       "6   1030.jpg       1      1  1.000000     31  1.320022e-09    158   \n",
       "7   1033.jpg       1      1  1.000000    159  1.377254e-07     33   \n",
       "8   1534.jpg       1      1  1.000000     75  5.808234e-09     94   \n",
       "9   1890.jpg       1    124  0.985052     50  6.778162e-03    119   \n",
       "10  1123.jpg      10      2  0.987282    174  4.836208e-03    185   \n",
       "11  1178.jpg      10      2  1.000000     60  6.439659e-24     67   \n",
       "12  1424.jpg      10      2  0.830262      7  1.595306e-01     89   \n",
       "13  1577.jpg      10    114  0.963516     82  2.912898e-02    111   \n",
       "14  1580.jpg      10      2  1.000000    185  9.191758e-23     67   \n",
       "15  1010.jpg     100      3  1.000000    148  1.193851e-09    192   \n",
       "16  1149.jpg     100      3  1.000000     88  1.242443e-21     89   \n",
       "17  1557.jpg     100      3  1.000000      4  1.303921e-17     88   \n",
       "18  1776.jpg     100      3  1.000000     42  4.107426e-14    185   \n",
       "19  2002.jpg     100      3  1.000000     42  2.958864e-13    192   \n",
       "\n",
       "           conf3  \n",
       "0   7.557364e-14  \n",
       "1   1.175644e-14  \n",
       "2   7.214292e-20  \n",
       "3   7.696927e-15  \n",
       "4   7.462769e-21  \n",
       "5   2.752700e-12  \n",
       "6   8.050806e-10  \n",
       "7   8.655093e-11  \n",
       "8   1.063871e-12  \n",
       "9   5.728464e-03  \n",
       "10  3.976669e-03  \n",
       "11  9.744709e-25  \n",
       "12  1.020686e-02  \n",
       "13  4.904998e-03  \n",
       "14  5.155828e-25  \n",
       "15  7.252154e-11  \n",
       "16  2.620247e-22  \n",
       "17  2.712669e-21  \n",
       "18  4.798364e-16  \n",
       "19  1.494322e-14  "
      ]
     },
     "execution_count": 108,
     "metadata": {},
     "output_type": "execute_result"
    }
   ],
   "source": [
    "df.head(20)"
   ]
  },
  {
   "cell_type": "code",
   "execution_count": 109,
   "metadata": {},
   "outputs": [
    {
     "data": {
      "image/png": "[encoded data removed]",
      "text/plain": [
       "<Figure size 1080x720 with 1 Axes>"
      ]
     },
     "metadata": {},
     "output_type": "display_data"
    }
   ],
   "source": [
    "freq_labels = df.groupby('labels').count()[['filename']]\n",
    "freq_labels = freq_labels.rename(columns={'filename': 'count'})\n",
    "freq_labels = freq_labels.sort_values(by='count', ascending=False)\n",
    "\n",
    "freq_labels.head(50).plot.bar(figsize=(15,10))\n",
    "plt.xticks(rotation=90);\n",
    "plt.xlabel(\"Cars\");\n",
    "plt.ylabel(\"Count\");"
   ]
  },
  {
   "cell_type": "code",
   "execution_count": 111,
   "metadata": {},
   "outputs": [
    {
     "name": "stdout",
     "output_type": "stream",
     "text": [
      "Accuracy: 10/1126\n"
     ]
    }
   ],
   "source": [
    "count = 0\n",
    "for i,j in zip(label, pred1):\n",
    "    if i==j:\n",
    "        count += 1\n",
    "\n",
    "print('Accuracy:',str(count)+'/'+str(len(label)))"
   ]
  },
  {
   "cell_type": "markdown",
   "metadata": {},
   "source": [
    "# Result"
   ]
  },
  {
   "cell_type": "code",
   "execution_count": 115,
   "metadata": {
    "scrolled": true
   },
   "outputs": [
    {
     "name": "stdout",
     "output_type": "stream",
     "text": [
      "Keras_accuracy: 0.793333\n",
      "Accuracy: 0.008881\n",
      "Precision: 0.008881\n",
      "Recall: 0.008929\n",
      "F1: 0.007560\n"
     ]
    }
   ],
   "source": [
    "from sklearn.metrics import accuracy_score, precision_score, recall_score, f1_score\n",
    "\n",
    "# accuracy from using keras.evaluate_generator\n",
    "print('Keras_accuracy: {0:.6f}'.format(score[1]))\n",
    "\n",
    "# accuracy: (tp + tn) / (p + n)\n",
    "accuracy = accuracy_score(label, pred1)\n",
    "print('Accuracy: {0:.6f}'.format(accuracy))\n",
    "\n",
    "# precision tp / (tp + fp)\n",
    "precision = precision_score(label, pred1, labels=np.unique(pred1), average = 'micro')\n",
    "print('Precision: {0:.6f}'.format(precision))\n",
    "\n",
    "# recall: tp / (tp + fn)\n",
    "recall = recall_score(label, pred1, labels=np.unique(pred1), average = 'micro')\n",
    "print('Recall: {0:.6f}'.format(recall))\n",
    "\n",
    "# f1: 2*(Recall * Precision) / (Recall + Precision)\n",
    "f1 = f1_score(label, pred1, labels=np.unique(pred1), average= 'weighted')\n",
    "print('F1: {0:.6f}'.format(f1))"
   ]
  }
 ],
 "metadata": {
  "kernelspec": {
   "display_name": "Python 3",
   "language": "python",
   "name": "python3"
  },
  "language_info": {
   "codemirror_mode": {
    "name": "ipython",
    "version": 3
   },
   "file_extension": ".py",
   "mimetype": "text/x-python",
   "name": "python",
   "nbconvert_exporter": "python",
   "pygments_lexer": "ipython3",
   "version": "3.6.5"
  }
 },
 "nbformat": 4,
 "nbformat_minor": 2
}
